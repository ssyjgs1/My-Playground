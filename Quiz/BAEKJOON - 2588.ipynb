{
 "cells": [
  {
   "attachments": {},
   "cell_type": "markdown",
   "metadata": {},
   "source": [
    "문제 출처 : https://www.acmicpc.net/problem/2588\n",
    "\n",
    "(세 자리 수) × (세 자리 수)는 다음과 같은 과정을 통하여 이루어진다.\n",
    "![과정](https://www.acmicpc.net/upload/images/f5NhGHVLM4Ix74DtJrwfC97KepPl27s%20(1).png)  \n",
    "(1)과 (2)위치에 들어갈 세 자리 자연수가 주어질 때 (3), (4), (5), (6)위치에 들어갈 값을 구하는 프로그램을 작성하시오.\n",
    "\n",
    "입력 : 첫째 줄에 (1)의 위치에 들어갈 세 자리 자연수가, 둘째 줄에 (2)의 위치에 들어갈 세자리 자연수가 주어진다.  \n",
    "출력 : 첫째 줄부터 넷째 줄까지 차례대로 (3), (4), (5), (6)에 들어갈 값을 출력한다."
   ]
  },
  {
   "cell_type": "code",
   "execution_count": null,
   "metadata": {},
   "outputs": [],
   "source": [
    "a = int(input())\n",
    "b = int(input())\n",
    "\n",
    "print(a * (b % 10))\n",
    "print(a * ((b % 100) // 10))\n",
    "print(a * (b // 100))\n",
    "print(a * b)"
   ]
  },
  {
   "attachments": {},
   "cell_type": "markdown",
   "metadata": {},
   "source": [
    "이 문제를 풀 때 위에 a, b를 가져올 때 `map(int, input().split())`으로 줘봤는데, 에러가 `런타임 에러(ValueError)`로 나타내서 뭔가 이해가 되지 않았다. 또한 두 번째 출력줄인 4번을 구해야 할 때 8로 접근하는 방법이 여러가지가 있는데 내가 여러번 넣은 답들은 적용되지 않았다. 뭔가 문제가 있는 거 같기도 한 듯"
   ]
  }
 ],
 "metadata": {
  "language_info": {
   "name": "python"
  },
  "orig_nbformat": 4
 },
 "nbformat": 4,
 "nbformat_minor": 2
}
