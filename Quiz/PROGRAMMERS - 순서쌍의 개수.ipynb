{
 "cells": [
  {
   "attachments": {},
   "cell_type": "markdown",
   "metadata": {},
   "source": [
    "문제 출처 : https://school.programmers.co.kr/learn/courses/30/lessons/120836"
   ]
  },
  {
   "cell_type": "code",
   "execution_count": null,
   "metadata": {},
   "outputs": [],
   "source": [
    "def solution(n):\n",
    "    answer = []\n",
    "    a, b = 0, 0\n",
    "    for i in range(1, n+1) :\n",
    "        if n % i == 0 : \n",
    "            a, b = i, n//i\n",
    "            answer.append((a,b))\n",
    "    answer = len(answer)\n",
    "    return answer"
   ]
  }
 ],
 "metadata": {
  "language_info": {
   "name": "python"
  },
  "orig_nbformat": 4
 },
 "nbformat": 4,
 "nbformat_minor": 2
}
