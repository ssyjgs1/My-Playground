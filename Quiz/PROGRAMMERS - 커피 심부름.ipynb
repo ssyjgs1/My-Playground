{
 "cells": [
  {
   "attachments": {},
   "cell_type": "markdown",
   "metadata": {},
   "source": [
    "문제 출처 : https://school.programmers.co.kr/learn/courses/30/lessons/181837"
   ]
  },
  {
   "cell_type": "code",
   "execution_count": null,
   "metadata": {},
   "outputs": [],
   "source": [
    "def solution(order):\n",
    "    sum = 0\n",
    "    for ord in order :\n",
    "        if \"latte\" in ord :\n",
    "            sum += 5000\n",
    "        else :\n",
    "            sum += 4500\n",
    "    return sum"
   ]
  }
 ],
 "metadata": {
  "language_info": {
   "name": "python"
  },
  "orig_nbformat": 4
 },
 "nbformat": 4,
 "nbformat_minor": 2
}
