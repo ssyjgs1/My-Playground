{
 "cells": [
  {
   "attachments": {},
   "cell_type": "markdown",
   "metadata": {},
   "source": [
    "문제 출처 : https://school.programmers.co.kr/learn/courses/30/lessons/120841"
   ]
  },
  {
   "cell_type": "code",
   "execution_count": null,
   "metadata": {},
   "outputs": [],
   "source": [
    "def solution(dot):\n",
    "    if dot[0] > 0 and dot[1] > 0 :\n",
    "        answer = 1\n",
    "    elif dot[0] < 0 and dot[1] > 0 :\n",
    "        answer = 2\n",
    "    elif dot[0] < 0 and dot[1] < 0 :\n",
    "        answer = 3\n",
    "    elif dot[0] > 0 and dot[1] < 0 :\n",
    "        answer = 4\n",
    "    return answer"
   ]
  },
  {
   "cell_type": "code",
   "execution_count": null,
   "metadata": {},
   "outputs": [],
   "source": [
    "def solution(dot):\n",
    "    quad = [(3,2),(4,1)]\n",
    "    return quad[dot[0] > 0][dot[1] > 0]"
   ]
  },
  {
   "cell_type": "code",
   "execution_count": null,
   "metadata": {},
   "outputs": [],
   "source": [
    "def solution(dot):\n",
    "    a, b = 1, 0\n",
    "    if dot[0]*dot[1] > 0:\n",
    "        b = 1\n",
    "    if dot[1] < 0:\n",
    "        a = 2\n",
    "    return 2*a-b"
   ]
  }
 ],
 "metadata": {
  "language_info": {
   "name": "python"
  },
  "orig_nbformat": 4
 },
 "nbformat": 4,
 "nbformat_minor": 2
}
