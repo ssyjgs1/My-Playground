{
 "cells": [
  {
   "attachments": {},
   "cell_type": "markdown",
   "metadata": {},
   "source": [
    "문제 출처 : https://www.acmicpc.net/problem/25304\n",
    "\n",
    "준원이는 저번 주에 살면서 처음으로 코스트코를 가 봤다. 정말 멋졌다. 그런데, 몇 개 담지도 않았는데 수상하게 높은 금액이 나오는 것이다! 준원이는 영수증을 보면서 정확하게 계산된 것이 맞는지 확인해보려 한다.\n",
    "\n",
    "영수증에 적힌, 구매한 각 물건의 가격과 개수, 구매한 물건들의 총 금액을 보고, 구매한 물건의 가격과 개수로 계산한 총 금액이 영수증에 적힌 총 금액과 일치하는지 검사해보자.\n",
    "\n",
    "입력 : \n",
    "- 첫째 줄에는 영수증에 적힌 총 금액 `X`가 주어진다.\n",
    "- 둘째 줄에는 영수증에 적힌 구매한 물건의 종류의 수 `N`이 주어진다.\n",
    "- 이후 `N`개의 줄에는 각 물건의 가격 `a`와 개수 `b`가 공백을 사이에 두고 주어진다.\n",
    "\n",
    "출력 : 구매한 물건의 가격과 개수로 계산한 총 금액이 영수증에 적힌 총 금액과 일치하면 Yes를 출력한다. 일치하지 않는다면 No를 출력한다."
   ]
  },
  {
   "cell_type": "code",
   "execution_count": null,
   "metadata": {},
   "outputs": [],
   "source": [
    "X = int(input()) # 영수증에 적힌 총 금액\n",
    "N = int(input()) # 영수증에 적힌 구매한 물건 종류의 수\n",
    "\n",
    "sum = 0\n",
    "for i in range(1, N+1) :\n",
    "    a, b = map(int, input().split()) # 물건의 가격 a, 물건의 갯수 b\n",
    "    price = a * b\n",
    "    sum += price\n",
    "\n",
    "if sum == X :\n",
    "    print(\"Yes\")\n",
    "else :\n",
    "    print(\"No\")"
   ]
  },
  {
   "attachments": {},
   "cell_type": "markdown",
   "metadata": {},
   "source": [
    "생각보다 금일 조건문, 반복문 문제를 여러 개 풀었더니 어렵지 않게 접근할 수 있었다.\n",
    "\n",
    "우선 필요한 입력을 받는다. 추가로 구매한 물건의 가격과 갯수로 계산한 총 금액을 담을 `sum`을 변수로 선언한다.\n",
    "\n",
    "이후 반복문을 걸어서 `a`, `b`를 입력받고, 두 가지를 곱한 값인 가격을 `price`로 선언해준다.\n",
    "\n",
    "`price`를 모두 합산한 값을 `sum`에 저장하도록 하고, 반복문에서 연산이 끝나면, 조건문으로 `sum`을 내려보내 영수증에 적힌 총 금액 `X`와 동일한지 비교하는 연산을 수행해서 출력한다."
   ]
  }
 ],
 "metadata": {
  "language_info": {
   "name": "python"
  },
  "orig_nbformat": 4
 },
 "nbformat": 4,
 "nbformat_minor": 2
}
