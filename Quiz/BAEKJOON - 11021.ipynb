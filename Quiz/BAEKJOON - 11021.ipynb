{
 "cells": [
  {
   "attachments": {},
   "cell_type": "markdown",
   "metadata": {},
   "source": [
    "문제 출처 : https://www.acmicpc.net/problem/11021"
   ]
  },
  {
   "cell_type": "code",
   "execution_count": null,
   "metadata": {},
   "outputs": [],
   "source": [
    "T = int(input())\n",
    "\n",
    "import sys\n",
    "for i in range(1, T+1) :\n",
    "    A, B = map(int, sys.stdin.readline().split())\n",
    "    print(\"Case #\" + str(i) + \": \" + str(A+B))"
   ]
  },
  {
   "attachments": {},
   "cell_type": "markdown",
   "metadata": {},
   "source": [
    "`T`는 `input()`으로 단순하게 입력받고, 반복문 내에서 `A`, `B`는 `sys.stdin.readline()`으로 입력받고 예제 출력 형식에 맞게 출력하면 풀 수 있다."
   ]
  }
 ],
 "metadata": {
  "language_info": {
   "name": "python"
  },
  "orig_nbformat": 4
 },
 "nbformat": 4,
 "nbformat_minor": 2
}
