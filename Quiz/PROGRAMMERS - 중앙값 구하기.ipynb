{
 "cells": [
  {
   "attachments": {},
   "cell_type": "markdown",
   "metadata": {},
   "source": [
    "문제 출처 : https://school.programmers.co.kr/learn/courses/30/lessons/120811"
   ]
  },
  {
   "cell_type": "code",
   "execution_count": null,
   "metadata": {},
   "outputs": [],
   "source": [
    "def solution(array):\n",
    "    array.sort(reverse=True)\n",
    "    median = len(array) // 2\n",
    "    return array[median]"
   ]
  },
  {
   "cell_type": "code",
   "execution_count": null,
   "metadata": {},
   "outputs": [],
   "source": [
    "def solution(array) :\n",
    "    median, idx = 0, 0\n",
    "    array.sort()\n",
    "    \n",
    "    if len(array) % 2 == 0 : # 짝수인 경우\n",
    "        idx = len(array) // 2\n",
    "        median = (array[idx - 1] + array[idx]) / 2\n",
    "        \n",
    "    else : # 홀수인 경우\n",
    "        idx = len(array) // 2\n",
    "        median = array[idx]\n",
    "    \n",
    "    return median"
   ]
  }
 ],
 "metadata": {
  "language_info": {
   "name": "python"
  },
  "orig_nbformat": 4
 },
 "nbformat": 4,
 "nbformat_minor": 2
}
