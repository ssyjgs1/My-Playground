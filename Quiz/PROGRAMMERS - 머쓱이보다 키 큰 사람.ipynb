{
 "cells": [
  {
   "attachments": {},
   "cell_type": "markdown",
   "metadata": {},
   "source": [
    "문제 출처 : https://school.programmers.co.kr/learn/courses/30/lessons/120585"
   ]
  },
  {
   "cell_type": "code",
   "execution_count": null,
   "metadata": {},
   "outputs": [],
   "source": [
    "def solution(array, height):\n",
    "    # 머쓱이보다 키 큰 사람 수를 return\n",
    "    # 반 친구들의 키가 담긴 정수 배열 array, 머쓱이의 키 height\n",
    "    bigger = 0\n",
    "    for key in array :\n",
    "        if key > height :\n",
    "            bigger += 1\n",
    "        else :\n",
    "            pass\n",
    "    answer = bigger\n",
    "    return answer"
   ]
  }
 ],
 "metadata": {
  "language_info": {
   "name": "python"
  },
  "orig_nbformat": 4
 },
 "nbformat": 4,
 "nbformat_minor": 2
}
