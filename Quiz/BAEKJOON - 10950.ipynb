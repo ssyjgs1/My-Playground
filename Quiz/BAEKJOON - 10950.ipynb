{
 "cells": [
  {
   "attachments": {},
   "cell_type": "markdown",
   "metadata": {},
   "source": [
    "문제 출처 : https://www.acmicpc.net/problem/10950\n",
    "\n",
    "두 정수 A와 B를 입력받은 다음, A+B를 출력하는 프로그램을 작성하시오.\n",
    "\n",
    "입력 : 첫째 줄에 테스트 케이스의 개수 T가 주어진다.\n",
    "\n",
    "각 테스트 케이스는 한 줄로 이루어져 있으며, 각 줄에 A와 B가 주어진다. (`0 < A, B < 10`)\n",
    "\n",
    "출력 : 각 테스트 케이스마다 A+B를 출력한다."
   ]
  },
  {
   "cell_type": "code",
   "execution_count": null,
   "metadata": {},
   "outputs": [],
   "source": [
    "T = int(input()) # 테스트 케이스의 갯수\n",
    "# A, B = map(int, input().split()) --> 두 정수 A, B 이게 각 줄에 튀어나와야 함\n",
    "for i in range(1, T + 1) : # 테스트 갯수가 T인데 1부터 시작한다치면 갯수가 하나 더해져야한다. | 0부터 시작하면 그냥 T 써도 됨\n",
    "    A, B = map(int, input().split())\n",
    "    print(A+B)"
   ]
  },
  {
   "attachments": {},
   "cell_type": "markdown",
   "metadata": {},
   "source": [
    "테스트 케이스의 갯수 `T`의 입력은 쉽다.\n",
    "\n",
    "마찬가지로 두 정수 `A`와 `B`의 입력 자체도 쉽다.\n",
    "\n",
    "문제는 각 테스트 케이스가 한 줄로 이루어져있는 관계로, 한 줄씩 입력을 해줘야 한다는 점이다.\n",
    "\n",
    "`for`문으로 어렵지 않게 구현하나 싶었다가, 잠시 놓친 부분이 `range()` 함수에 들어갈 인자값 부분이었다.\n",
    "\n",
    "예를 들어 `for i in range(1, 10)`이면, 1 ~ 9까지 해당한다.\n",
    "\n",
    "그러면 테스트 케이스 `T`가 5라 치면, 연산이 5번 이루어져야 하는데, 인자값 자리에 그냥 `(1, T)`를 쓰면, 1~4까지만 써진다는 것이다.\n",
    "\n",
    "0부터 시작하는 게 근본인 것을 잠시 망각해서 벌어진 문제다.\n",
    "\n",
    "만약 인자값 자리에 `(0, T)`를 쓴다면 오류 없이 동작한다."
   ]
  }
 ],
 "metadata": {
  "language_info": {
   "name": "python"
  },
  "orig_nbformat": 4
 },
 "nbformat": 4,
 "nbformat_minor": 2
}
