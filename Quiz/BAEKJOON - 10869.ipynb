{
 "cells": [
  {
   "attachments": {},
   "cell_type": "markdown",
   "metadata": {},
   "source": [
    "문제 출처 : https://www.acmicpc.net/problem/10869\n",
    "\n",
    "두 자연수 A와 B가 주어진다. 이때, A+B, A-B, A*B, A/B(몫), A%B(나머지)를 출력하는 프로그램을 작성하시오.\n",
    "- 입력 : 두 자연수 A와 B가 주어진다. (1 ≤ A, B ≤ 10,000)\n",
    "- 출력 : 첫째 줄에 A+B, 둘째 줄에 A-B, 셋째 줄에 A*B, 넷째 줄에 A/B, 다섯째 줄에 A%B를 출력한다."
   ]
  },
  {
   "cell_type": "code",
   "execution_count": null,
   "metadata": {},
   "outputs": [],
   "source": [
    "A, B = map(int, input().split())\n",
    "print(A+B)\n",
    "print(A-B)\n",
    "print(A*B)\n",
    "print(A//B)\n",
    "print(A%B)"
   ]
  },
  {
   "attachments": {},
   "cell_type": "markdown",
   "metadata": {},
   "source": [
    "`map`함수\n",
    "- `map(f, iterable)`은  함수 `f`와 반복 가능한 데이터를 입력으로 받습니다.\n",
    "- `map`함수는 입력받은 데이터의 각 요소에 함수 `f`를 적용한 결과를 return 하는 함수입니다."
   ]
  }
 ],
 "metadata": {
  "language_info": {
   "name": "python"
  },
  "orig_nbformat": 4
 },
 "nbformat": 4,
 "nbformat_minor": 2
}
