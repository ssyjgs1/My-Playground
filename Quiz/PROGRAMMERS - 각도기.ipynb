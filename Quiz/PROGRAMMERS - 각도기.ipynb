{
 "cells": [
  {
   "attachments": {},
   "cell_type": "markdown",
   "metadata": {},
   "source": [
    "문제 출처 : https://school.programmers.co.kr/learn/courses/30/lessons/120829"
   ]
  },
  {
   "cell_type": "code",
   "execution_count": null,
   "metadata": {},
   "outputs": [],
   "source": [
    "def solution(angle):\n",
    "    if 0 < angle < 90 :\n",
    "        return 1\n",
    "    elif angle == 90 :\n",
    "        return 2\n",
    "    elif 90 < angle < 180 :\n",
    "        return 3\n",
    "    elif angle == 180 :\n",
    "        return 4"
   ]
  }
 ],
 "metadata": {
  "language_info": {
   "name": "python"
  },
  "orig_nbformat": 4
 },
 "nbformat": 4,
 "nbformat_minor": 2
}
