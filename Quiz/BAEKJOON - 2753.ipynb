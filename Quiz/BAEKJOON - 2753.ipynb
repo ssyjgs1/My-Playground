{
 "cells": [
  {
   "attachments": {},
   "cell_type": "markdown",
   "metadata": {},
   "source": [
    "문제 출처 : https://www.acmicpc.net/problem/2753  \n",
    "연도가 주어졌을 때, 윤년이면 1, 아니면 0을 출력하는 프로그램을 작성하시오.  \n",
    "\n",
    "윤년은 연도가 4의 배수이면서, 100의 배수가 아닐 때 또는 400의 배수일 때이다.  \n",
    "\n",
    "예를 들어, 2012년은 4의 배수이면서 100의 배수가 아니라서 윤년이다. 1900년은 100의 배수이고 400의 배수는 아니기 때문에 윤년이 아니다. 하지만, 2000년은 400의 배수이기 때문에 윤년이다.  \n",
    "\n",
    "입력 : 첫째 줄에 연도가 주어진다. 연도는 1보다 크거나 같고, 4000보다 작거나 같은 자연수이다.  \n",
    "출력 : 첫째 줄에 윤년이면 1, 아니면 0을 출력한다."
   ]
  },
  {
   "cell_type": "code",
   "execution_count": null,
   "metadata": {},
   "outputs": [],
   "source": [
    "x = int(input())\n",
    "if x % 4 == 0 and x % 400 == 0 :\n",
    "    print(1)\n",
    "elif x % 4 == 0 and x % 100 :\n",
    "    print(1)\n",
    "else :\n",
    "    print(0)"
   ]
  },
  {
   "attachments": {},
   "cell_type": "markdown",
   "metadata": {},
   "source": [
    "윤년 `x`를 `input`으로 받고 `int`형으로 변환시켜준다.  \n",
    "이후 문제에서 제시된 윤년의 조건에 맞게 수식을 작성해준다.  \n",
    "살짝 헷갈렸던 점은 `x % 4 == 0 and x % 100` 부분이었는데, 한 번 오류를 겪고 풀 수 있었다."
   ]
  }
 ],
 "metadata": {
  "language_info": {
   "name": "python"
  },
  "orig_nbformat": 4
 },
 "nbformat": 4,
 "nbformat_minor": 2
}
