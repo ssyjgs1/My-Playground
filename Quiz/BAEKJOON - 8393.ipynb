{
 "cells": [
  {
   "attachments": {},
   "cell_type": "markdown",
   "metadata": {},
   "source": [
    "문제 출처 : https://www.acmicpc.net/problem/8393\n",
    "\n",
    "n이 주어졌을 때, 1부터 n까지 합을 구하는 프로그램을 작성하시오.\n",
    "\n",
    "입력 : 첫째 줄에 n (1 ≤ n ≤ 10,000)이 주어진다.\n",
    "\n",
    "출력 : 1부터 n까지 합을 출력한다."
   ]
  },
  {
   "cell_type": "code",
   "execution_count": null,
   "metadata": {},
   "outputs": [],
   "source": [
    "n = int(input()) # 입력으로 던져줄 수\n",
    "# n = 5면, 1 + 2 + 3 + 4 + 5\n",
    "\n",
    "sum = 0\n",
    "for i in range(1, n + 1) :\n",
    "    sum += i\n",
    "print(sum)"
   ]
  },
  {
   "attachments": {},
   "cell_type": "markdown",
   "metadata": {},
   "source": [
    "입력으로 던져줄 수를 받고 `n=5`일 때를 참고로 써뒀다.\n",
    "\n",
    "우선 합을 구해야 하므로, 합을 담을 변수 `sum`을 선언해준다.\n",
    "\n",
    "그리고 반복문으로 `1`부터 `n+1`까지 연산을 하게 한다.\n",
    "\n",
    "할 연산은 `sum = sum + i`로, 합을 담은 공간은 합에 반복하는 `i`를 차례로 담는 것이다.\n",
    "\n",
    "`i`는 `1`씩 증가할테니, 아래와 같이 된다.\n",
    "- 0 = 0 + 1\n",
    "- 1 = 1 + 1\n",
    "- 2 = 2 + 1\n",
    "- ......\n",
    "\n",
    "위의 연산에서 `=`기호는 담는다는 뜻이 된다."
   ]
  }
 ],
 "metadata": {
  "language_info": {
   "name": "python"
  },
  "orig_nbformat": 4
 },
 "nbformat": 4,
 "nbformat_minor": 2
}
