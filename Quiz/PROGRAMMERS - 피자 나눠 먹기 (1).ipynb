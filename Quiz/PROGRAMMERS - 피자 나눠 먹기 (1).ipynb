{
 "cells": [
  {
   "attachments": {},
   "cell_type": "markdown",
   "metadata": {},
   "source": [
    "문제 출처 : https://school.programmers.co.kr/learn/courses/30/lessons/120814"
   ]
  },
  {
   "cell_type": "code",
   "execution_count": null,
   "metadata": {},
   "outputs": [],
   "source": [
    "def solution(n):\n",
    "    # n = 피자를 나눠먹을 사람 수\n",
    "    # 피자는 7조각으로 잘라줌\n",
    "    if n <= 7 :\n",
    "        answer = 1\n",
    "    elif n % 7 == 0 :\n",
    "        answer = n // 7\n",
    "    else : # 사람이 7명보다 많으면?\n",
    "        answer = (n//7) + 1\n",
    "    return answer"
   ]
  },
  {
   "cell_type": "code",
   "execution_count": null,
   "metadata": {},
   "outputs": [],
   "source": [
    "def solution(n):\n",
    "    return (n - 1) // 7 + 1"
   ]
  }
 ],
 "metadata": {
  "language_info": {
   "name": "python"
  },
  "orig_nbformat": 4
 },
 "nbformat": 4,
 "nbformat_minor": 2
}
