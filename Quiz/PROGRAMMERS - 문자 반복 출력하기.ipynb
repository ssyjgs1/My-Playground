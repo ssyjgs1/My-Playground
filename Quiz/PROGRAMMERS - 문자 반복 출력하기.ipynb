{
 "cells": [
  {
   "attachments": {},
   "cell_type": "markdown",
   "metadata": {},
   "source": [
    "문제 출처 : https://school.programmers.co.kr/learn/courses/30/lessons/120825"
   ]
  },
  {
   "cell_type": "code",
   "execution_count": null,
   "metadata": {},
   "outputs": [],
   "source": [
    "def solution(my_string, n):\n",
    "    answer = []\n",
    "    for strd in my_string :\n",
    "        answer.append(strd)\n",
    "    # print(answer) # ['h', 'e', 'l', 'l', 'o']\n",
    "    str_list = ''\n",
    "    for i in answer :\n",
    "        str_list += str(i * n)\n",
    "    return str_list"
   ]
  }
 ],
 "metadata": {
  "language_info": {
   "name": "python"
  },
  "orig_nbformat": 4
 },
 "nbformat": 4,
 "nbformat_minor": 2
}
