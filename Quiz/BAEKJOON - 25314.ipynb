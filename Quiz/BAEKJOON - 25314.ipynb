{
 "cells": [
  {
   "attachments": {},
   "cell_type": "markdown",
   "metadata": {},
   "source": [
    "문제 출처 : https://www.acmicpc.net/problem/25314\n",
    "\n",
    "![사분면](https://upload.acmicpc.net/ccbbee06-7e6f-4e56-bb9f-9a1abd795508/-/preview/)  \n",
    "\n",
    "오늘은 혜아의 면접 날이다. 면접 준비를 열심히 해서 앞선 질문들을 잘 대답한 혜아는 이제 마지막으로 칠판에 직접 코딩하는 문제를 받았다. 혜아가 받은 문제는 두 수를 더하는 문제였다. C++ 책을 열심히 읽었던 혜아는 간단히 두 수를 더하는 코드를 칠판에 적었다. 코드를 본 면접관은 다음 질문을 했다. “만약, 입출력이 N바이트 크기의 정수라면 프로그램을 어떻게 구현해야 할까요?”\n",
    "\n",
    "혜아는 책에 있는 정수 자료형과 관련된 내용을 기억해 냈다. 책에는 long int는 4바이트 정수까지 저장할 수 있는 정수 자료형이고 long long int는 8바이트 정수까지 저장할 수 있는 정수 자료형이라고 적혀 있었다. 혜아는 이런 생각이 들었다. “int 앞에 long을 하나씩 더 붙일 때마다 4바이트씩 저장할 수 있는 공간이 늘어나는 걸까? 분명 long long long int는 12바이트, long long long long int는 16바이트까지 저장할 수 있는 정수 자료형일거야!\" 그렇게 혜아는 당황하는 면접관의 얼굴을 뒤로한 채 칠판에 정수 자료형을 써내려가기 시작했다.\n",
    "\n",
    "혜아가 N바이트 정수까지 저장할 수 있다고 생각해서 칠판에 쓴 정수 자료형의 이름은 무엇일까?\n",
    "\n",
    "\n",
    "입력 : 첫 번째 줄에는 문제의 정수 $N$이 주어진다. (4 =< N =< 1000, N은 4의 배수)\n",
    "\n",
    "출력 : 혜아가 N바이트 정수까지 저장할 수 있다고 생각하는 정수 자료형의 이름을 출력하여라."
   ]
  },
  {
   "cell_type": "code",
   "execution_count": null,
   "metadata": {},
   "outputs": [],
   "source": [
    "N = int(input())\n",
    "\n",
    "if N % 4 == 0 :\n",
    "    name = \"long \" * int(N//4) + \"int\"\n",
    "    print(name)"
   ]
  },
  {
   "attachments": {},
   "cell_type": "markdown",
   "metadata": {},
   "source": [
    "문제 분류는 반복문으로 되어있었는데 풀어보니 반복문 없이도 그냥 풀 수 있었다. 그래서 반복문으로 풀려면 어떻게 푸나 하고 타인들의 제출본을 몇 개 봤는데, 풀이가 잘 이해되는 스크립트를 몇 개 기재해보았다."
   ]
  },
  {
   "cell_type": "code",
   "execution_count": null,
   "metadata": {},
   "outputs": [],
   "source": [
    "n = int(input())\n",
    "s = n // 4\n",
    "for i in range(s):\n",
    "    print('long',end=' ')\n",
    "print('int')"
   ]
  },
  {
   "attachments": {},
   "cell_type": "markdown",
   "metadata": {},
   "source": [
    "이건 `N`을 받고 얘의 몫을 `s`라고 둔다. 이후 `s`회만큼 반복해서 `long` 글자를 뽑고 맨 마지막에 `int`라고 글을 써주는 방식으로 해결!"
   ]
  },
  {
   "cell_type": "code",
   "execution_count": null,
   "metadata": {},
   "outputs": [],
   "source": [
    "import sys\n",
    "n = int(sys.stdin.readline())\n",
    "cal = int(n / 4)\n",
    "\n",
    "print(\"long \" * cal + \"int\")"
   ]
  },
  {
   "attachments": {},
   "cell_type": "markdown",
   "metadata": {},
   "source": [
    "이런 풀이법은 처음 보았는데, 일단 내부 모듈인 `sys`를 갖고온다. 이후 뒷 내용은 처음 보는 거라 구글링을 해보았는데, 반복문으로 여러 줄을 입력받아야 할 때는 `input()` 사용 시에 시간 초과 문제가 생길 수 있어서 `sys.stdin.readline()`을 사용한다고 한다.\n",
    "\n",
    "참고할 만한 자료 : [파이썬 입력 받기(sys.stdin.readline()):link:](https://velog.io/@yeseolee/Python-%ED%8C%8C%EC%9D%B4%EC%8D%AC-%EC%9E%85%EB%A0%A5-%EC%A0%95%EB%A6%ACsys.stdin.readline)"
   ]
  }
 ],
 "metadata": {
  "language_info": {
   "name": "python"
  },
  "orig_nbformat": 4
 },
 "nbformat": 4,
 "nbformat_minor": 2
}
