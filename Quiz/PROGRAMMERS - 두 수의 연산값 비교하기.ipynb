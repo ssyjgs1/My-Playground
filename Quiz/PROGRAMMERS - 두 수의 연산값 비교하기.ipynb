{
 "cells": [
  {
   "attachments": {},
   "cell_type": "markdown",
   "metadata": {},
   "source": [
    "문제 출처 : https://school.programmers.co.kr/learn/courses/30/lessons/181938"
   ]
  },
  {
   "cell_type": "code",
   "execution_count": null,
   "metadata": {},
   "outputs": [],
   "source": [
    "def solution(a, b):\n",
    "    answer1 = int(str(a) + str(b))\n",
    "    answer2 = 2 * a * b\n",
    "    if answer1 >= answer2 :\n",
    "        answer = answer1\n",
    "    else :\n",
    "        answer = answer2\n",
    "    return answer"
   ]
  },
  {
   "cell_type": "code",
   "execution_count": null,
   "metadata": {},
   "outputs": [],
   "source": [
    "def solution(a, b):\n",
    "    res = int(str(a) + str(b))\n",
    "    comp = 2*a*b\n",
    "    return max(res,comp)"
   ]
  }
 ],
 "metadata": {
  "language_info": {
   "name": "python"
  },
  "orig_nbformat": 4
 },
 "nbformat": 4,
 "nbformat_minor": 2
}
