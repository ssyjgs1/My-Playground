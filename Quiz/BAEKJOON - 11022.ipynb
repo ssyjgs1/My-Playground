{
 "cells": [
  {
   "attachments": {},
   "cell_type": "markdown",
   "metadata": {},
   "source": [
    "문제 출처 : https://www.acmicpc.net/problem/11022"
   ]
  },
  {
   "cell_type": "code",
   "execution_count": null,
   "metadata": {},
   "outputs": [],
   "source": [
    "import sys\n",
    "T = int(input())\n",
    "for i in range(1, T+1) :\n",
    "    A, B = map(int, sys.stdin.readline().split())\n",
    "    print(\"Case #\" + str(i) + \": \" + str(A) + \" + \" + str(B) + \" = \" + str(A+B))"
   ]
  },
  {
   "attachments": {},
   "cell_type": "markdown",
   "metadata": {},
   "source": [
    "처음에 안 풀리길래 왜 그런가 하고 다시 생각해보니 제한시간의 문제인가 싶어서 `map(int, input().split())`으로 풀던 걸 `map(int, sys.stdin.readline().split())`으로 바꿔보니 풀렸다."
   ]
  }
 ],
 "metadata": {
  "language_info": {
   "name": "python"
  },
  "orig_nbformat": 4
 },
 "nbformat": 4,
 "nbformat_minor": 2
}
