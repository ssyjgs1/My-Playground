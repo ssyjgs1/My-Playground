{
 "cells": [
  {
   "attachments": {},
   "cell_type": "markdown",
   "metadata": {},
   "source": [
    "문제 출처 : https://www.acmicpc.net/problem/2739\n",
    "\n",
    "N을 입력받은 뒤, 구구단 N단을 출력하는 프로그램을 작성하시오. 출력 형식에 맞춰서 출력하면 된다.\n",
    "\n",
    "입력 : 첫째 줄에 N이 주어진다. N은 1보다 크거나 같고, 9보다 작거나 같다.\n",
    "\n",
    "출력 : 출력형식과 같게 `N*1`부터 `N*9`까지 출력한다."
   ]
  },
  {
   "cell_type": "code",
   "execution_count": null,
   "metadata": {},
   "outputs": [],
   "source": [
    "N = int(input()) # N을 입력받는다.\n",
    "\n",
    "for i in range(1, 10) :\n",
    "    print(str(N) + \" * \" + str(i) + \" = \" + str(N*i))"
   ]
  },
  {
   "attachments": {},
   "cell_type": "markdown",
   "metadata": {},
   "source": [
    "반복문의 시작을 알리는 문제다.\n",
    "\n",
    "귀찮게 구는 건, 예제 출력 형식대로 하려면 문자열 형태로 바꿔줘야 하는 것.\n",
    "\n",
    "그리고 띄어쓰기에 충실하게 각 연산자 양 옆으로 공백칸을 넣어줘야 풀린다."
   ]
  }
 ],
 "metadata": {
  "language_info": {
   "name": "python"
  },
  "orig_nbformat": 4
 },
 "nbformat": 4,
 "nbformat_minor": 2
}
