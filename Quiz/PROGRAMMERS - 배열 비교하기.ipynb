{
 "cells": [
  {
   "attachments": {},
   "cell_type": "markdown",
   "metadata": {},
   "source": [
    "문제 출처 : https://school.programmers.co.kr/learn/courses/30/lessons/181856"
   ]
  },
  {
   "cell_type": "code",
   "execution_count": null,
   "metadata": {},
   "outputs": [],
   "source": [
    "def solution(arr1, arr2):\n",
    "    if len(arr1) != len(arr2) :\n",
    "        if len(arr1) > len(arr2) :\n",
    "            return 1\n",
    "        elif len(arr2) > len(arr1) :\n",
    "            return -1\n",
    "    else :\n",
    "        if sum(arr1) > sum(arr2) :\n",
    "            return 1\n",
    "        elif sum(arr2) > sum(arr1) :\n",
    "            return -1\n",
    "        else :\n",
    "            return 0"
   ]
  }
 ],
 "metadata": {
  "language_info": {
   "name": "python"
  },
  "orig_nbformat": 4
 },
 "nbformat": 4,
 "nbformat_minor": 2
}
