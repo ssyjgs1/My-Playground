{
 "cells": [
  {
   "attachments": {},
   "cell_type": "markdown",
   "metadata": {},
   "source": [
    "문제 출처 : https://www.acmicpc.net/problem/9498  \n",
    "\n",
    "시험 점수를 입력받아 90 ~ 100점은 A, 80 ~ 89점은 B, 70 ~ 79점은 C, 60 ~ 69점은 D, 나머지 점수는 F를 출력하는 프로그램을 작성하시오.  \n",
    "\n",
    "입력 : 첫째 줄에 시험 점수가 주어진다. 시험 점수는 0보다 크거나 같고, 100보다 작거나 같은 정수이다.  \n",
    "출력 : 시험 성적을 출력한다."
   ]
  },
  {
   "cell_type": "code",
   "execution_count": null,
   "metadata": {},
   "outputs": [],
   "source": [
    "score = int(input())\n",
    "\n",
    "if 90 <= score <= 100 :\n",
    "    print(\"A\")\n",
    "elif 80 <= score <= 89 :\n",
    "    print(\"B\")\n",
    "elif 70 <= score <= 79 :\n",
    "    print(\"C\")\n",
    "elif 60 <= score <= 69 :\n",
    "    print(\"D\")\n",
    "else :\n",
    "    print(\"F\")"
   ]
  },
  {
   "attachments": {},
   "cell_type": "markdown",
   "metadata": {},
   "source": [
    "점수를 score 변수를 통해 input을 받고 이를 정수로 변환해준다.\n",
    "이후, 각 점수 구간 별로 조건문을 걸고 이에 따른 성적을 출력해준다.\n",
    "다만, 처음에 헷갈렸던 부분이 부등호를 쓸 때 `<=`를 쓰는지, `=<`를 쓰는지 처음에 틀려서 오류가 있었다."
   ]
  }
 ],
 "metadata": {
  "language_info": {
   "name": "python"
  },
  "orig_nbformat": 4
 },
 "nbformat": 4,
 "nbformat_minor": 2
}
