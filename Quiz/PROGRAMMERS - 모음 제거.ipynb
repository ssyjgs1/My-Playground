{
 "cells": [
  {
   "attachments": {},
   "cell_type": "markdown",
   "metadata": {},
   "source": [
    "문제 출처 : https://school.programmers.co.kr/learn/courses/30/lessons/120849"
   ]
  },
  {
   "cell_type": "code",
   "execution_count": null,
   "metadata": {},
   "outputs": [],
   "source": [
    "def solution(my_string) :\n",
    "    my_string = my_string.replace('a', '')\n",
    "    my_string = my_string.replace('e', '')\n",
    "    my_string = my_string.replace('i', '')\n",
    "    my_string = my_string.replace('o', '')\n",
    "    my_string = my_string.replace('u', '')\n",
    "    return str(my_string)"
   ]
  },
  {
   "cell_type": "code",
   "execution_count": null,
   "metadata": {},
   "outputs": [],
   "source": [
    "def solution(my_string):\n",
    "    vowels = ['a','e','i','o','u']\n",
    "    for vowel in vowels:\n",
    "        my_string = my_string.replace(vowel, '')\n",
    "    return my_string"
   ]
  }
 ],
 "metadata": {
  "language_info": {
   "name": "python"
  },
  "orig_nbformat": 4
 },
 "nbformat": 4,
 "nbformat_minor": 2
}
