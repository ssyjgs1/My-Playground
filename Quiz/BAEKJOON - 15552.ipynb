{
 "cells": [
  {
   "attachments": {},
   "cell_type": "markdown",
   "metadata": {},
   "source": [
    "문제 출처 : https://www.acmicpc.net/problem/15552\n",
    "\n",
    "이제 문제가 다 길어지기 시작해서 원문을 마크다운으로 옮겨쓰는 건 내려놓았다."
   ]
  },
  {
   "cell_type": "code",
   "execution_count": null,
   "metadata": {},
   "outputs": [],
   "source": [
    "import sys\n",
    "T = int(input())\n",
    "for i in range(1, T+1) :\n",
    "    A, B = map(int, sys.stdin.readline().split())\n",
    "    print(A + B)"
   ]
  },
  {
   "attachments": {},
   "cell_type": "markdown",
   "metadata": {},
   "source": [
    "시간 문제 때문에 풀이상으로는 틀린 게 없어야 하는데도 자꾸 틀렸다고 나왔다. 알고보니 Python의 속도가 너무 느려서 시간이 초과되는 문제가 있었다.\n",
    "\n",
    "`A, B = map(int, sys.stdin.readline().split())` 이 부분을 원래 `for`문 밖에다가 두었는데, `for`문 안으로 들여놓고 실행시키니 시간 문제 없이 정답으로 나왔다."
   ]
  }
 ],
 "metadata": {
  "language_info": {
   "name": "python"
  },
  "orig_nbformat": 4
 },
 "nbformat": 4,
 "nbformat_minor": 2
}
