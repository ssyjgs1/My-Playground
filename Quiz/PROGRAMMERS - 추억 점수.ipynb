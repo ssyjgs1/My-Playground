{
 "cells": [
  {
   "attachments": {},
   "cell_type": "markdown",
   "metadata": {},
   "source": [
    "문제 출처 : https://school.programmers.co.kr/learn/courses/30/lessons/176963"
   ]
  },
  {
   "cell_type": "code",
   "execution_count": null,
   "metadata": {},
   "outputs": [],
   "source": [
    "def solution(name, yearning, photo):\n",
    "    # 그리워하는 사람의 이름을 담은 문자열 배열 name\n",
    "    # 각 사람별 그리움 점수를 담은 정수 배열 yearning\n",
    "    # 각 사진에 찍힌 인물의 이름을 담은 이차원 문자열 배열 photo\n",
    "    # 사진들의 추억 점수를 photo에 주어진 순서대로 배열에 담아 return 하는 solution 함수를 만드시오\n",
    "    answer = []\n",
    "    \n",
    "    # name, yearning을 key, value로 갖는 딕셔너리 만들기\n",
    "    dict = {k : v for k, v in zip(name, yearning)}\n",
    "    \n",
    "    # photo에서 사진을 하나씩 꺼내는 반복문 실행\n",
    "    for p in photo :\n",
    "        \n",
    "        # p(photo)에서 이름을 꺼내 n에 있으면 그리움 점수를 리스트에 저장\n",
    "        score = [dict[k] for k in p if k in dict.keys()]\n",
    "        \n",
    "        # 그리움 점수를 합산해 answer에 저장\n",
    "        answer.append(sum(score))\n",
    "    return answer"
   ]
  },
  {
   "attachments": {},
   "cell_type": "markdown",
   "metadata": {},
   "source": [
    "참고할 만한 다른 풀이\n",
    "- https://hueco.tistory.com/332\n",
    "- https://tonight-study.tistory.com/102\n",
    "- https://velog.io/@heyggun/4%EC%BD%941%ED%8C%8C-88.-LV-1.-%EC%B6%94%EC%96%B5%EC%A0%90%EC%88%98"
   ]
  }
 ],
 "metadata": {
  "language_info": {
   "name": "python"
  },
  "orig_nbformat": 4
 },
 "nbformat": 4,
 "nbformat_minor": 2
}
