{
 "cells": [
  {
   "attachments": {},
   "cell_type": "markdown",
   "metadata": {},
   "source": [
    "# AskUp 사용해보기\n",
    "본 스크립트는 카카오톡에서 제공하는 `OpenAI`를 기반으로 하는 `AskUp`을 간단하게 사용해본 내용을 담고 있습니다.  \n",
    "이러한 질문을 해보았습니다.  \n",
    "\"특정 수치들을 가지고 결과를 예측하는 파이썬 코드를 작성해줘\"\n",
    "\n",
    "아래는 `AskUp`의 답변입니다."
   ]
  },
  {
   "cell_type": "code",
   "execution_count": 1,
   "metadata": {},
   "outputs": [
    {
     "name": "stdout",
     "output_type": "stream",
     "text": [
      "Collecting scikit-learn\n",
      "  Downloading scikit_learn-1.2.2-cp39-cp39-win_amd64.whl (8.4 MB)\n",
      "     ---------------------------------------- 8.4/8.4 MB 24.3 MB/s eta 0:00:00\n",
      "Collecting numpy>=1.17.3\n",
      "  Downloading numpy-1.24.3-cp39-cp39-win_amd64.whl (14.9 MB)\n",
      "     --------------------------------------- 14.9/14.9 MB 25.2 MB/s eta 0:00:00\n",
      "Collecting joblib>=1.1.1\n",
      "  Downloading joblib-1.2.0-py3-none-any.whl (297 kB)\n",
      "     ------------------------------------- 298.0/298.0 kB 18.0 MB/s eta 0:00:00\n",
      "Collecting threadpoolctl>=2.0.0\n",
      "  Downloading threadpoolctl-3.1.0-py3-none-any.whl (14 kB)\n",
      "Collecting scipy>=1.3.2\n",
      "  Downloading scipy-1.10.1-cp39-cp39-win_amd64.whl (42.5 MB)\n",
      "     --------------------------------------- 42.5/42.5 MB 27.3 MB/s eta 0:00:00\n",
      "Installing collected packages: threadpoolctl, numpy, joblib, scipy, scikit-learn\n",
      "Successfully installed joblib-1.2.0 numpy-1.24.3 scikit-learn-1.2.2 scipy-1.10.1 threadpoolctl-3.1.0\n",
      "Note: you may need to restart the kernel to use updated packages.\n"
     ]
    }
   ],
   "source": [
    "pip install scikit-learn"
   ]
  },
  {
   "cell_type": "code",
   "execution_count": 2,
   "metadata": {},
   "outputs": [
    {
     "name": "stdout",
     "output_type": "stream",
     "text": [
      "[12. 15.]\n"
     ]
    }
   ],
   "source": [
    "\"\"\"머신러닝 모델을 만들 때 특정 수치들을 가지고 결과를 예측하는 파이썬 코드를 작성할 수 있습니다.\n",
    "예를 들어, scikit-learn 라이브러리에서 제공하는 선형 회귀 모델을 사용하여 특정 입력값 X에 대한 결과값 y를 예측하는 코드는 다음과 같습니다.\"\"\"\n",
    "\n",
    "# Python\n",
    "from sklearn.linear_model import LinearRegression\n",
    "\n",
    "# 입력값 X와 결과값 y를 준비합니다.\n",
    "X = [[1, 2, 3], [4, 5, 6], [7, 8, 9]]\n",
    "y = [3, 6, 9]\n",
    "\n",
    "# 선형 회귀 모델을 학습합니다.\n",
    "model = LinearRegression()\n",
    "model.fit(X, y)\n",
    "\n",
    "# 새로운 입력값에 대한 결과값을 예측합니다.\n",
    "new_X = [[10, 11, 12], [13, 14, 15]]\n",
    "predicted_y = model.predict(new_X)\n",
    "\n",
    "print(predicted_y)"
   ]
  },
  {
   "attachments": {},
   "cell_type": "markdown",
   "metadata": {},
   "source": [
    "이 코드는 입력값 `X`가 `[[1, 2, 3], [4, 5, 6], [7, 8, 9]]`이고 결과값 `y`가 `[3, 6, 9]`인 데이터를 학습하고,  \n",
    "입력값 `[[10, 11, 12], [13, 14, 15]]`에 대한 결과값을 예측합니다.  \n",
    "예측한 결과값은 `predicted_y`변수에 저장되며, `print` 함수를 사용하여 출력할 수 있습니다."
   ]
  },
  {
   "attachments": {},
   "cell_type": "markdown",
   "metadata": {},
   "source": [
    "간단한 예시지만 굉장히 명확하게 알려줌을 볼 수 있었습니다."
   ]
  }
 ],
 "metadata": {
  "kernelspec": {
   "display_name": "playground",
   "language": "python",
   "name": "python3"
  },
  "language_info": {
   "codemirror_mode": {
    "name": "ipython",
    "version": 3
   },
   "file_extension": ".py",
   "mimetype": "text/x-python",
   "name": "python",
   "nbconvert_exporter": "python",
   "pygments_lexer": "ipython3",
   "version": "3.9.16"
  },
  "orig_nbformat": 4
 },
 "nbformat": 4,
 "nbformat_minor": 2
}
