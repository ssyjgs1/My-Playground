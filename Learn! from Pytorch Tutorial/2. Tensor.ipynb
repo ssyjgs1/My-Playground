{
  "cells": [
    {
      "attachments": {},
      "cell_type": "markdown",
      "metadata": {},
      "source": [
        "URL from : https://tutorials.pytorch.kr/beginner/basics/tensorqs_tutorial.html"
      ]
    },
    {
      "cell_type": "code",
      "execution_count": 17,
      "metadata": {
        "id": "szUMjViqayg2"
      },
      "outputs": [],
      "source": [
        "# 필요한 라이브러리 불러오기\n",
        "import torch\n",
        "import numpy as np"
      ]
    },
    {
      "cell_type": "markdown",
      "metadata": {
        "id": "025kkwwEcFd5"
      },
      "source": [
        "# 텐서 초기화  \n",
        "- 데이터로부터 직접 생성하기\n",
        "- Numpy 배열로부터 생성하기\n",
        "- 다른 텐서로부터 생성하기"
      ]
    },
    {
      "cell_type": "code",
      "execution_count": 18,
      "metadata": {
        "colab": {
          "base_uri": "https://localhost:8080/"
        },
        "id": "vlVPBLe2cC7m",
        "outputId": "339abca6-6f34-417f-acf9-e39802ac19f3"
      },
      "outputs": [
        {
          "name": "stdout",
          "output_type": "stream",
          "text": [
            "tensor([[1, 2],\n",
            "        [3, 4]])\n",
            "tensor([[1, 2],\n",
            "        [3, 4]])\n",
            "Ones Tensor : \n",
            " tensor([[1, 1],\n",
            "        [1, 1]]) \n",
            "\n",
            "Random Tensor : \n",
            " tensor([[0.6694, 0.9888],\n",
            "        [0.0119, 0.1295]]) \n",
            "\n"
          ]
        }
      ],
      "source": [
        "data = [[1,2],[3,4]]\n",
        "\n",
        "x_data = torch.tensor(data)\n",
        "print(x_data)\n",
        "\n",
        "np_array = np.array(data)\n",
        "x_np = torch.from_numpy(np_array)\n",
        "print(x_np)\n",
        "\n",
        "x_ones = torch.ones_like(x_data) # x_data의 속성을 유지함\n",
        "print(f\"Ones Tensor : \\n {x_ones} \\n\")\n",
        "\n",
        "x_rand = torch.rand_like(x_data, dtype=torch.float) # x_data의 속성을 덮어씀\n",
        "print(f\"Random Tensor : \\n {x_rand} \\n\")"
      ]
    },
    {
      "cell_type": "markdown",
      "metadata": {
        "id": "j-hwGqP5czm9"
      },
      "source": [
        "무작위(random) 또는 상수(constant) 값을 사용하기\n",
        "- shape은 텐서의 dimension(차원)을 나타내는 tuple(튜플)로, 아래 함수들에서는 출력 텐서의 차원을 결정한다."
      ]
    },
    {
      "cell_type": "code",
      "execution_count": 19,
      "metadata": {
        "colab": {
          "base_uri": "https://localhost:8080/"
        },
        "id": "BppyEiIdctoE",
        "outputId": "50ded5c0-4115-43f7-a297-16e534813fc8"
      },
      "outputs": [
        {
          "name": "stdout",
          "output_type": "stream",
          "text": [
            "Random Tensor : \n",
            " tensor([[0.2335, 0.3885, 0.5053],\n",
            "        [0.7663, 0.0094, 0.8673]]) \n",
            "\n",
            "Ones Tensor : \n",
            " tensor([[1., 1., 1.],\n",
            "        [1., 1., 1.]]) \n",
            "\n",
            "Zeros Tensor : \n",
            " tensor([[0., 0., 0.],\n",
            "        [0., 0., 0.]]) \n",
            "\n"
          ]
        }
      ],
      "source": [
        "shape = (2,3,)\n",
        "rand_tensor = torch.rand(shape)\n",
        "ones_tensor = torch.ones(shape)\n",
        "zeros_tensor = torch.zeros(shape)\n",
        "\n",
        "print(f\"Random Tensor : \\n {rand_tensor} \\n\")\n",
        "print(f\"Ones Tensor : \\n {ones_tensor} \\n\")\n",
        "print(f\"Zeros Tensor : \\n {zeros_tensor} \\n\")"
      ]
    },
    {
      "cell_type": "markdown",
      "metadata": {
        "id": "RQyCPzQudZXi"
      },
      "source": [
        "텐서의 attribute(속성)은 텐서의 shape(모양), datatype(자료형) 및 어느 장치(device)에 저장되는지를 나타낸다."
      ]
    },
    {
      "cell_type": "code",
      "execution_count": 20,
      "metadata": {
        "colab": {
          "base_uri": "https://localhost:8080/"
        },
        "id": "F4Y7lMTVdQtE",
        "outputId": "c5a2d9fc-79a6-4e67-c4dd-fdedbe284b4d"
      },
      "outputs": [
        {
          "name": "stdout",
          "output_type": "stream",
          "text": [
            "Shape of Tensor : torch.Size([3, 4])\n",
            "Datatype of Tensor : torch.float32\n",
            "Device tensor is sotred on : cpu\n"
          ]
        }
      ],
      "source": [
        "tensor = torch.rand(3,4)\n",
        "\n",
        "print(f\"Shape of Tensor : {tensor.shape}\")\n",
        "print(f\"Datatype of Tensor : {tensor.dtype}\")\n",
        "print(f\"Device tensor is sotred on : {tensor.device}\")"
      ]
    },
    {
      "cell_type": "markdown",
      "metadata": {
        "id": "CGPtObf9d8sy"
      },
      "source": [
        "# Tensor Operation(텐서 연산)  \n",
        "- transposing(전치), indexing, slicing, 수학적 연산, 선형대수, random sampling 등 여러 연산을 수행할 수 있다.\n",
        "- 각 연산들은 GPU에서 실행 가능하다.\n",
        "- 기본적으로 tensor는 CPU에 생성된다. '.to' method를 사용하면 환경이 따라준다는 전제조건 하에 GPU로 연산을 돌릴 수 있다."
      ]
    },
    {
      "cell_type": "code",
      "execution_count": 21,
      "metadata": {
        "id": "iPf2-mOEdy5C"
      },
      "outputs": [],
      "source": [
        "# GPU가 존재하면 텐서를 이동한다\n",
        "if torch.cuda.is_available() :\n",
        "    tensor = tensor.to(\"cuda\")"
      ]
    },
    {
      "cell_type": "markdown",
      "metadata": {
        "id": "PfCwN-Cnep6y"
      },
      "source": [
        "NumPy식의 표준 인덱싱과 슬라이싱"
      ]
    },
    {
      "cell_type": "code",
      "execution_count": 22,
      "metadata": {
        "colab": {
          "base_uri": "https://localhost:8080/"
        },
        "id": "q74Eas5QemD6",
        "outputId": "c2885149-0f40-47f8-efe5-0f436797c315"
      },
      "outputs": [
        {
          "name": "stdout",
          "output_type": "stream",
          "text": [
            "First row : tensor([1., 1., 1., 1.])\n",
            "First column : tensor([1., 1., 1., 1.])\n",
            "Last column : tensor([1., 1., 1., 1.])\n",
            "tensor([[1., 0., 1., 1.],\n",
            "        [1., 0., 1., 1.],\n",
            "        [1., 0., 1., 1.],\n",
            "        [1., 0., 1., 1.]])\n"
          ]
        }
      ],
      "source": [
        "tensor = torch.ones(4,4)\n",
        "print(f\"First row : {tensor[0]}\")\n",
        "print(f\"First column : {tensor[:,0]}\")\n",
        "print(f\"Last column : {tensor[...,-1]}\")\n",
        "tensor[:,1] = 0\n",
        "print(tensor)"
      ]
    },
    {
      "cell_type": "markdown",
      "metadata": {
        "id": "Ka6XnSppfHZS"
      },
      "source": [
        "텐서 합치기\n",
        "- torch.cat을 사용해서 주어진 차원에 따라 일련의 텐서를 연결할 수 있다. torch.cat과 미묘하게 다른 텐서 결합 연산으로 torch.stack도 있다."
      ]
    },
    {
      "cell_type": "code",
      "execution_count": 23,
      "metadata": {
        "colab": {
          "base_uri": "https://localhost:8080/"
        },
        "id": "9b3kbjvVe8aB",
        "outputId": "fc821fc3-63cc-4c39-8e74-507b4062b5df"
      },
      "outputs": [
        {
          "name": "stdout",
          "output_type": "stream",
          "text": [
            "tensor([[1., 0., 1., 1., 1., 0., 1., 1., 1., 0., 1., 1.],\n",
            "        [1., 0., 1., 1., 1., 0., 1., 1., 1., 0., 1., 1.],\n",
            "        [1., 0., 1., 1., 1., 0., 1., 1., 1., 0., 1., 1.],\n",
            "        [1., 0., 1., 1., 1., 0., 1., 1., 1., 0., 1., 1.]])\n"
          ]
        }
      ],
      "source": [
        "t1 = torch.cat([tensor, tensor, tensor], dim=1)\n",
        "print(t1)"
      ]
    },
    {
      "cell_type": "markdown",
      "metadata": {
        "id": "J2ksTKf8fYQd"
      },
      "source": [
        "산술 연산(arithmetic operations)"
      ]
    },
    {
      "cell_type": "code",
      "execution_count": 24,
      "metadata": {
        "colab": {
          "base_uri": "https://localhost:8080/"
        },
        "id": "VJmBm6YNfUgI",
        "outputId": "002f4294-262f-49d3-a762-62369d30db1c"
      },
      "outputs": [
        {
          "name": "stdout",
          "output_type": "stream",
          "text": [
            "tensor([[3., 3., 3., 3.],\n",
            "        [3., 3., 3., 3.],\n",
            "        [3., 3., 3., 3.],\n",
            "        [3., 3., 3., 3.]])\n",
            "tensor([[3., 3., 3., 3.],\n",
            "        [3., 3., 3., 3.],\n",
            "        [3., 3., 3., 3.],\n",
            "        [3., 3., 3., 3.]])\n",
            "tensor([[0.5150, 0.3842, 0.1937, 0.2993],\n",
            "        [0.9147, 0.4309, 0.6926, 0.1981],\n",
            "        [0.1518, 0.8733, 0.5491, 0.5732],\n",
            "        [0.8508, 0.2443, 0.9682, 0.6091]])\n"
          ]
        },
        {
          "data": {
            "text/plain": [
              "tensor([[3., 3., 3., 3.],\n",
              "        [3., 3., 3., 3.],\n",
              "        [3., 3., 3., 3.],\n",
              "        [3., 3., 3., 3.]])"
            ]
          },
          "execution_count": 24,
          "metadata": {},
          "output_type": "execute_result"
        }
      ],
      "source": [
        "# 두 tensor 간의 행렬 곱(matrix multiplication)을 계산하자. y1, y2, y3은 모두 같은 값을 갖는다.\n",
        "y1 = tensor @ tensor.T\n",
        "print(y1)\n",
        "y2 = tensor.matmul(tensor.T)\n",
        "print(y2)\n",
        "y3 = torch.rand_like(y1)\n",
        "print(y3)\n",
        "torch.matmul(tensor, tensor.T, out=y3)"
      ]
    },
    {
      "cell_type": "code",
      "execution_count": 25,
      "metadata": {
        "colab": {
          "base_uri": "https://localhost:8080/"
        },
        "id": "hLtsqO_7fytY",
        "outputId": "c766b04d-98f7-4e51-edb5-8b32535303b3"
      },
      "outputs": [
        {
          "name": "stdout",
          "output_type": "stream",
          "text": [
            "tensor([[1., 0., 1., 1.],\n",
            "        [1., 0., 1., 1.],\n",
            "        [1., 0., 1., 1.],\n",
            "        [1., 0., 1., 1.]])\n",
            "tensor([[1., 0., 1., 1.],\n",
            "        [1., 0., 1., 1.],\n",
            "        [1., 0., 1., 1.],\n",
            "        [1., 0., 1., 1.]])\n",
            "tensor([[0.3416, 0.7651, 0.6930, 0.4195],\n",
            "        [0.3064, 0.9493, 0.9594, 0.9198],\n",
            "        [0.1931, 0.1745, 0.3845, 0.9680],\n",
            "        [0.8217, 0.6850, 0.5053, 0.9116]])\n"
          ]
        },
        {
          "data": {
            "text/plain": [
              "tensor([[1., 0., 1., 1.],\n",
              "        [1., 0., 1., 1.],\n",
              "        [1., 0., 1., 1.],\n",
              "        [1., 0., 1., 1.]])"
            ]
          },
          "execution_count": 25,
          "metadata": {},
          "output_type": "execute_result"
        }
      ],
      "source": [
        "# 요소별 곱(elment-wise product)을 계산하자. z1, z2, z3은 모두 같은 값을 갖는다.\n",
        "z1 = tensor * tensor\n",
        "print(z1)\n",
        "z2 = tensor.mul(tensor)\n",
        "print(z2)\n",
        "z3 = torch.rand_like(tensor)\n",
        "print(z3)\n",
        "torch.mul(tensor, tensor, out=z3)"
      ]
    },
    {
      "cell_type": "markdown",
      "metadata": {
        "id": "ebc5wSXGgUfG"
      },
      "source": [
        "단일 요소 텐서(single element tensor)\n",
        "- 텐서의 모든 값을 하나로 집계(aggregate)하여 요소가 하나인 텐서의 경우, item()을 사용하여 Python 숫자 값으로 변환할 수 있다."
      ]
    },
    {
      "cell_type": "code",
      "execution_count": 26,
      "metadata": {
        "colab": {
          "base_uri": "https://localhost:8080/"
        },
        "id": "_TAwroxVgJ2A",
        "outputId": "86f5bdd4-8599-44ea-f5d7-946bb90a7a90"
      },
      "outputs": [
        {
          "name": "stdout",
          "output_type": "stream",
          "text": [
            "12.0 <class 'float'>\n"
          ]
        }
      ],
      "source": [
        "agg = tensor.sum()\n",
        "agg_item = agg.item()\n",
        "print(agg_item, type(agg_item))"
      ]
    },
    {
      "cell_type": "markdown",
      "metadata": {
        "id": "MTOUxkVHgvaH"
      },
      "source": [
        "바꿔치기 연산(in-place)\n",
        "- 연산 결과를 피연산자(operand)에 저장하는 연산을 바꿔치기 연산이라고 부르며, _ 접미사를 갖는다. \n",
        "- 예를 들어 x.copy_(y)나 x.t_()는 x를 변경한다.\n",
        "- 이 연산은 메모리를 일부 절약할 수 있지만, history(기록)이 즉시 삭제되어 derivative(도함수) 계산에 문제가 발생할 수 있어 권장하지 않는다."
      ]
    },
    {
      "cell_type": "code",
      "execution_count": 27,
      "metadata": {
        "colab": {
          "base_uri": "https://localhost:8080/"
        },
        "id": "hPGHte61gijv",
        "outputId": "76842d28-4c02-4b48-9cb4-c8a45be5b835"
      },
      "outputs": [
        {
          "name": "stdout",
          "output_type": "stream",
          "text": [
            "tensor([[1., 0., 1., 1.],\n",
            "        [1., 0., 1., 1.],\n",
            "        [1., 0., 1., 1.],\n",
            "        [1., 0., 1., 1.]]) \n",
            "\n",
            "tensor([[6., 5., 6., 6.],\n",
            "        [6., 5., 6., 6.],\n",
            "        [6., 5., 6., 6.],\n",
            "        [6., 5., 6., 6.]])\n"
          ]
        }
      ],
      "source": [
        "print(f\"{tensor} \\n\")\n",
        "tensor.add_(5)\n",
        "print(tensor)"
      ]
    },
    {
      "cell_type": "markdown",
      "metadata": {
        "id": "KnvICWdChRrO"
      },
      "source": [
        "NumPy 변환(Bridge)\n",
        "- CPU 상의 텐서와 NumPy 배열은 메모리 공간을 공유하므로, 하나를 변경하면 다른 하나도 변경된다."
      ]
    },
    {
      "cell_type": "code",
      "execution_count": 28,
      "metadata": {
        "colab": {
          "base_uri": "https://localhost:8080/"
        },
        "id": "m9RIdf7-hAsn",
        "outputId": "53325517-5a71-43d7-f58f-8af61e09ac6b"
      },
      "outputs": [
        {
          "name": "stdout",
          "output_type": "stream",
          "text": [
            "t : tensor([1., 1., 1., 1., 1.])\n",
            "n : [1. 1. 1. 1. 1.]\n"
          ]
        }
      ],
      "source": [
        "# 텐서를 numpy 배열로 변환하기\n",
        "t = torch.ones(5)\n",
        "print(f\"t : {t}\")\n",
        "n = t.numpy()\n",
        "print(f\"n : {n}\")"
      ]
    },
    {
      "cell_type": "markdown",
      "metadata": {
        "id": "23Nhe7Ihhmxz"
      },
      "source": [
        "- 텐서의 변경사항이 numpy 배열에 반영된다."
      ]
    },
    {
      "cell_type": "code",
      "execution_count": 29,
      "metadata": {
        "colab": {
          "base_uri": "https://localhost:8080/"
        },
        "id": "rIkoMU2ehipN",
        "outputId": "d515756d-56f9-4331-dc4f-ad56b039df72"
      },
      "outputs": [
        {
          "name": "stdout",
          "output_type": "stream",
          "text": [
            "t : tensor([2., 2., 2., 2., 2.])\n",
            "n : [2. 2. 2. 2. 2.]\n"
          ]
        }
      ],
      "source": [
        "t.add_(1)\n",
        "print(f\"t : {t}\")\n",
        "print(f\"n : {n}\")"
      ]
    },
    {
      "cell_type": "markdown",
      "metadata": {
        "id": "eBFt41hGh5_q"
      },
      "source": [
        "numpy 배열을 텐서로 변환하기"
      ]
    },
    {
      "cell_type": "code",
      "execution_count": 30,
      "metadata": {
        "id": "i43g03b2hte8"
      },
      "outputs": [],
      "source": [
        "n = np.ones(5)\n",
        "t = torch.from_numpy(n)"
      ]
    },
    {
      "cell_type": "markdown",
      "metadata": {
        "id": "tCfX-X_8h_5-"
      },
      "source": [
        "- numpy 배열의 변경 사항이 텐서에 반영된다."
      ]
    },
    {
      "cell_type": "code",
      "execution_count": 31,
      "metadata": {
        "colab": {
          "base_uri": "https://localhost:8080/"
        },
        "id": "3tcaDWw4h_Y8",
        "outputId": "47fd7716-e76a-47db-db60-55639b6faa7e"
      },
      "outputs": [
        {
          "name": "stdout",
          "output_type": "stream",
          "text": [
            "t : tensor([2., 2., 2., 2., 2.], dtype=torch.float64)\n",
            "n : [2. 2. 2. 2. 2.]\n"
          ]
        }
      ],
      "source": [
        "np.add(n, 1, out=n)\n",
        "print(f\"t : {t}\")\n",
        "print(f\"n : {n}\")"
      ]
    }
  ],
  "metadata": {
    "accelerator": "GPU",
    "colab": {
      "provenance": []
    },
    "gpuClass": "standard",
    "kernelspec": {
      "display_name": "Python 3",
      "name": "python3"
    },
    "language_info": {
      "name": "python"
    }
  },
  "nbformat": 4,
  "nbformat_minor": 0
}
