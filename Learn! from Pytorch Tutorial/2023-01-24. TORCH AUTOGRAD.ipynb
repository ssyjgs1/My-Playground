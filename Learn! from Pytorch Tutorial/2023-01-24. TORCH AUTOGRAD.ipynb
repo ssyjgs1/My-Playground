{
  "nbformat": 4,
  "nbformat_minor": 0,
  "metadata": {
    "colab": {
      "provenance": []
    },
    "kernelspec": {
      "name": "python3",
      "display_name": "Python 3"
    },
    "language_info": {
      "name": "python"
    },
    "widgets": {
      "application/vnd.jupyter.widget-state+json": {
        "769a4b2311d345d0b1d2b9efd940d722": {
          "model_module": "@jupyter-widgets/controls",
          "model_name": "HBoxModel",
          "model_module_version": "1.5.0",
          "state": {
            "_dom_classes": [],
            "_model_module": "@jupyter-widgets/controls",
            "_model_module_version": "1.5.0",
            "_model_name": "HBoxModel",
            "_view_count": null,
            "_view_module": "@jupyter-widgets/controls",
            "_view_module_version": "1.5.0",
            "_view_name": "HBoxView",
            "box_style": "",
            "children": [
              "IPY_MODEL_307ec8efc6104ccabeb8cf760f1463f7",
              "IPY_MODEL_c1d6cecb66334c9d9fbb93379449e61d",
              "IPY_MODEL_eea43c5f515a44d89f3f4b1acaa12e51"
            ],
            "layout": "IPY_MODEL_3348aa5fc42940e5b421d8767ae99b28"
          }
        },
        "307ec8efc6104ccabeb8cf760f1463f7": {
          "model_module": "@jupyter-widgets/controls",
          "model_name": "HTMLModel",
          "model_module_version": "1.5.0",
          "state": {
            "_dom_classes": [],
            "_model_module": "@jupyter-widgets/controls",
            "_model_module_version": "1.5.0",
            "_model_name": "HTMLModel",
            "_view_count": null,
            "_view_module": "@jupyter-widgets/controls",
            "_view_module_version": "1.5.0",
            "_view_name": "HTMLView",
            "description": "",
            "description_tooltip": null,
            "layout": "IPY_MODEL_37950ca20ae8400f9c4e1a83127b4226",
            "placeholder": "​",
            "style": "IPY_MODEL_3fb2f5fb51254c93916005fab98cade6",
            "value": "100%"
          }
        },
        "c1d6cecb66334c9d9fbb93379449e61d": {
          "model_module": "@jupyter-widgets/controls",
          "model_name": "FloatProgressModel",
          "model_module_version": "1.5.0",
          "state": {
            "_dom_classes": [],
            "_model_module": "@jupyter-widgets/controls",
            "_model_module_version": "1.5.0",
            "_model_name": "FloatProgressModel",
            "_view_count": null,
            "_view_module": "@jupyter-widgets/controls",
            "_view_module_version": "1.5.0",
            "_view_name": "ProgressView",
            "bar_style": "success",
            "description": "",
            "description_tooltip": null,
            "layout": "IPY_MODEL_1bfc700ced814017a715e0c70777e112",
            "max": 46830571,
            "min": 0,
            "orientation": "horizontal",
            "style": "IPY_MODEL_23da0cb952884e6e8321b9ad72d1ba32",
            "value": 46830571
          }
        },
        "eea43c5f515a44d89f3f4b1acaa12e51": {
          "model_module": "@jupyter-widgets/controls",
          "model_name": "HTMLModel",
          "model_module_version": "1.5.0",
          "state": {
            "_dom_classes": [],
            "_model_module": "@jupyter-widgets/controls",
            "_model_module_version": "1.5.0",
            "_model_name": "HTMLModel",
            "_view_count": null,
            "_view_module": "@jupyter-widgets/controls",
            "_view_module_version": "1.5.0",
            "_view_name": "HTMLView",
            "description": "",
            "description_tooltip": null,
            "layout": "IPY_MODEL_c8ee9f83fd26471a97594929b48259c6",
            "placeholder": "​",
            "style": "IPY_MODEL_fdfc6f3fe70448afb686553266c77175",
            "value": " 44.7M/44.7M [00:00&lt;00:00, 74.6MB/s]"
          }
        },
        "3348aa5fc42940e5b421d8767ae99b28": {
          "model_module": "@jupyter-widgets/base",
          "model_name": "LayoutModel",
          "model_module_version": "1.2.0",
          "state": {
            "_model_module": "@jupyter-widgets/base",
            "_model_module_version": "1.2.0",
            "_model_name": "LayoutModel",
            "_view_count": null,
            "_view_module": "@jupyter-widgets/base",
            "_view_module_version": "1.2.0",
            "_view_name": "LayoutView",
            "align_content": null,
            "align_items": null,
            "align_self": null,
            "border": null,
            "bottom": null,
            "display": null,
            "flex": null,
            "flex_flow": null,
            "grid_area": null,
            "grid_auto_columns": null,
            "grid_auto_flow": null,
            "grid_auto_rows": null,
            "grid_column": null,
            "grid_gap": null,
            "grid_row": null,
            "grid_template_areas": null,
            "grid_template_columns": null,
            "grid_template_rows": null,
            "height": null,
            "justify_content": null,
            "justify_items": null,
            "left": null,
            "margin": null,
            "max_height": null,
            "max_width": null,
            "min_height": null,
            "min_width": null,
            "object_fit": null,
            "object_position": null,
            "order": null,
            "overflow": null,
            "overflow_x": null,
            "overflow_y": null,
            "padding": null,
            "right": null,
            "top": null,
            "visibility": null,
            "width": null
          }
        },
        "37950ca20ae8400f9c4e1a83127b4226": {
          "model_module": "@jupyter-widgets/base",
          "model_name": "LayoutModel",
          "model_module_version": "1.2.0",
          "state": {
            "_model_module": "@jupyter-widgets/base",
            "_model_module_version": "1.2.0",
            "_model_name": "LayoutModel",
            "_view_count": null,
            "_view_module": "@jupyter-widgets/base",
            "_view_module_version": "1.2.0",
            "_view_name": "LayoutView",
            "align_content": null,
            "align_items": null,
            "align_self": null,
            "border": null,
            "bottom": null,
            "display": null,
            "flex": null,
            "flex_flow": null,
            "grid_area": null,
            "grid_auto_columns": null,
            "grid_auto_flow": null,
            "grid_auto_rows": null,
            "grid_column": null,
            "grid_gap": null,
            "grid_row": null,
            "grid_template_areas": null,
            "grid_template_columns": null,
            "grid_template_rows": null,
            "height": null,
            "justify_content": null,
            "justify_items": null,
            "left": null,
            "margin": null,
            "max_height": null,
            "max_width": null,
            "min_height": null,
            "min_width": null,
            "object_fit": null,
            "object_position": null,
            "order": null,
            "overflow": null,
            "overflow_x": null,
            "overflow_y": null,
            "padding": null,
            "right": null,
            "top": null,
            "visibility": null,
            "width": null
          }
        },
        "3fb2f5fb51254c93916005fab98cade6": {
          "model_module": "@jupyter-widgets/controls",
          "model_name": "DescriptionStyleModel",
          "model_module_version": "1.5.0",
          "state": {
            "_model_module": "@jupyter-widgets/controls",
            "_model_module_version": "1.5.0",
            "_model_name": "DescriptionStyleModel",
            "_view_count": null,
            "_view_module": "@jupyter-widgets/base",
            "_view_module_version": "1.2.0",
            "_view_name": "StyleView",
            "description_width": ""
          }
        },
        "1bfc700ced814017a715e0c70777e112": {
          "model_module": "@jupyter-widgets/base",
          "model_name": "LayoutModel",
          "model_module_version": "1.2.0",
          "state": {
            "_model_module": "@jupyter-widgets/base",
            "_model_module_version": "1.2.0",
            "_model_name": "LayoutModel",
            "_view_count": null,
            "_view_module": "@jupyter-widgets/base",
            "_view_module_version": "1.2.0",
            "_view_name": "LayoutView",
            "align_content": null,
            "align_items": null,
            "align_self": null,
            "border": null,
            "bottom": null,
            "display": null,
            "flex": null,
            "flex_flow": null,
            "grid_area": null,
            "grid_auto_columns": null,
            "grid_auto_flow": null,
            "grid_auto_rows": null,
            "grid_column": null,
            "grid_gap": null,
            "grid_row": null,
            "grid_template_areas": null,
            "grid_template_columns": null,
            "grid_template_rows": null,
            "height": null,
            "justify_content": null,
            "justify_items": null,
            "left": null,
            "margin": null,
            "max_height": null,
            "max_width": null,
            "min_height": null,
            "min_width": null,
            "object_fit": null,
            "object_position": null,
            "order": null,
            "overflow": null,
            "overflow_x": null,
            "overflow_y": null,
            "padding": null,
            "right": null,
            "top": null,
            "visibility": null,
            "width": null
          }
        },
        "23da0cb952884e6e8321b9ad72d1ba32": {
          "model_module": "@jupyter-widgets/controls",
          "model_name": "ProgressStyleModel",
          "model_module_version": "1.5.0",
          "state": {
            "_model_module": "@jupyter-widgets/controls",
            "_model_module_version": "1.5.0",
            "_model_name": "ProgressStyleModel",
            "_view_count": null,
            "_view_module": "@jupyter-widgets/base",
            "_view_module_version": "1.2.0",
            "_view_name": "StyleView",
            "bar_color": null,
            "description_width": ""
          }
        },
        "c8ee9f83fd26471a97594929b48259c6": {
          "model_module": "@jupyter-widgets/base",
          "model_name": "LayoutModel",
          "model_module_version": "1.2.0",
          "state": {
            "_model_module": "@jupyter-widgets/base",
            "_model_module_version": "1.2.0",
            "_model_name": "LayoutModel",
            "_view_count": null,
            "_view_module": "@jupyter-widgets/base",
            "_view_module_version": "1.2.0",
            "_view_name": "LayoutView",
            "align_content": null,
            "align_items": null,
            "align_self": null,
            "border": null,
            "bottom": null,
            "display": null,
            "flex": null,
            "flex_flow": null,
            "grid_area": null,
            "grid_auto_columns": null,
            "grid_auto_flow": null,
            "grid_auto_rows": null,
            "grid_column": null,
            "grid_gap": null,
            "grid_row": null,
            "grid_template_areas": null,
            "grid_template_columns": null,
            "grid_template_rows": null,
            "height": null,
            "justify_content": null,
            "justify_items": null,
            "left": null,
            "margin": null,
            "max_height": null,
            "max_width": null,
            "min_height": null,
            "min_width": null,
            "object_fit": null,
            "object_position": null,
            "order": null,
            "overflow": null,
            "overflow_x": null,
            "overflow_y": null,
            "padding": null,
            "right": null,
            "top": null,
            "visibility": null,
            "width": null
          }
        },
        "fdfc6f3fe70448afb686553266c77175": {
          "model_module": "@jupyter-widgets/controls",
          "model_name": "DescriptionStyleModel",
          "model_module_version": "1.5.0",
          "state": {
            "_model_module": "@jupyter-widgets/controls",
            "_model_module_version": "1.5.0",
            "_model_name": "DescriptionStyleModel",
            "_view_count": null,
            "_view_module": "@jupyter-widgets/base",
            "_view_module_version": "1.2.0",
            "_view_name": "StyleView",
            "description_width": ""
          }
        }
      }
    }
  },
  "cells": [
    {
      "cell_type": "markdown",
      "source": [
        "# ```torch.autograd```에 대해 알아보자  \n",
        "- URL from : https://tutorials.pytorch.kr/beginner/blitz/autograd_tutorial.html\n",
        "- URL from : https://pytorch.org/tutorials/beginner/blitz/autograd_tutorial.html"
      ],
      "metadata": {
        "id": "GTGJMjtegHVw"
      }
    },
    {
      "cell_type": "markdown",
      "source": [
        "## 배경 지식(background)  \n",
        "신경망(NN : Neural Network)은 어떤 입력 데이터에 대해 실행되는 중첩(nested)된 함수들의 모음(collection)이다. 이 함수들은 PyTorch에서 tensor로 저장되는, 가중치(weight)와 편향(bias)으로 구성된 매개변수들로 정의된다.  \n",
        "\n",
        "신경망을 학습하는 건 2단계로 이루어진다.\n",
        "\n",
        "순전파(forward propagaton)\n",
        "- 순전파 단계에서, 신경망은 정답을 맞추기 위해 최선의 추측(best guess)을 한다. 이렇게 추측하기 위해 입력 데이터를 각 함수들에서 실행한다.\n",
        "\n",
        "역전파(backward propagation)\n",
        "- 역전파 단계에서, 신경망은 추측한 값에서 발생한 오류(error)에 비례하여(propagation) 매개변수들을 적절히 조절(adjust)한다. 출력(output)으로부터 역방향으로 이동하면서 오류에 대한 함수들의 매개변수들의 미분값(=변화도=gradient)을 수집하고, 경사하강법(gradient descent)을 사용하여 매개변수들을 최적화한다."
      ],
      "metadata": {
        "id": "qY3oDZQDgT3o"
      }
    },
    {
      "cell_type": "markdown",
      "source": [
        "## PyTorch에서의 사용법\n",
        "본 튜토리얼에서는 ```torchvision```에서 미리 학습된 resnet18 모델을 갖다 쓴다. 3채널짜리 이미지 채널과 64 x 64짜리 넓이를 갖는 이미지 하나를 표현하는 무작위의 데이터 tensor를 생성하고, 이에 상응하는 ```label(정답)```을 무작위 값으로 초기화한다. 미리 학습된 모델의 정답(label)은 (1, 1000)의 모양(shape)을 갖는다.  \n",
        "+본 튜토리얼은 tensor를 CUDA로 이동하더라도 GPU에서는 동작하지 않고 CPU에서만 동작한다."
      ],
      "metadata": {
        "id": "NfwMe2JwhGAf"
      }
    },
    {
      "cell_type": "code",
      "execution_count": 1,
      "metadata": {
        "colab": {
          "base_uri": "https://localhost:8080/",
          "height": 161,
          "referenced_widgets": [
            "769a4b2311d345d0b1d2b9efd940d722",
            "307ec8efc6104ccabeb8cf760f1463f7",
            "c1d6cecb66334c9d9fbb93379449e61d",
            "eea43c5f515a44d89f3f4b1acaa12e51",
            "3348aa5fc42940e5b421d8767ae99b28",
            "37950ca20ae8400f9c4e1a83127b4226",
            "3fb2f5fb51254c93916005fab98cade6",
            "1bfc700ced814017a715e0c70777e112",
            "23da0cb952884e6e8321b9ad72d1ba32",
            "c8ee9f83fd26471a97594929b48259c6",
            "fdfc6f3fe70448afb686553266c77175"
          ]
        },
        "id": "62Eb17QXf7PO",
        "outputId": "f808292e-cc83-4269-ecbd-73bb1bec6b0b"
      },
      "outputs": [
        {
          "output_type": "stream",
          "name": "stderr",
          "text": [
            "/usr/local/lib/python3.8/dist-packages/torchvision/models/_utils.py:208: UserWarning: The parameter 'pretrained' is deprecated since 0.13 and may be removed in the future, please use 'weights' instead.\n",
            "  warnings.warn(\n",
            "/usr/local/lib/python3.8/dist-packages/torchvision/models/_utils.py:223: UserWarning: Arguments other than a weight enum or `None` for 'weights' are deprecated since 0.13 and may be removed in the future. The current behavior is equivalent to passing `weights=ResNet18_Weights.IMAGENET1K_V1`. You can also use `weights=ResNet18_Weights.DEFAULT` to get the most up-to-date weights.\n",
            "  warnings.warn(msg)\n",
            "Downloading: \"https://download.pytorch.org/models/resnet18-f37072fd.pth\" to /root/.cache/torch/hub/checkpoints/resnet18-f37072fd.pth\n"
          ]
        },
        {
          "output_type": "display_data",
          "data": {
            "text/plain": [
              "  0%|          | 0.00/44.7M [00:00<?, ?B/s]"
            ],
            "application/vnd.jupyter.widget-view+json": {
              "version_major": 2,
              "version_minor": 0,
              "model_id": "769a4b2311d345d0b1d2b9efd940d722"
            }
          },
          "metadata": {}
        }
      ],
      "source": [
        "import torch, torchvision\n",
        "model = torchvision.models.resnet18(pretrained=True)\n",
        "data = torch.rand(1, 3, 64, 64)\n",
        "labels = torch.rand(1, 1000)"
      ]
    },
    {
      "cell_type": "markdown",
      "source": [
        "다음으로, 입력(input) 데이터를 모델의 각 층(layer)에 통과시켜 예측값(prediction)을 생성해보자. 이게 순전파 단계다."
      ],
      "metadata": {
        "id": "tknZUDgVh2yd"
      }
    },
    {
      "cell_type": "code",
      "source": [
        "prediction = model(data) # 순전파 단계(forward pass)"
      ],
      "metadata": {
        "id": "C_RklIL-h2Gt"
      },
      "execution_count": 16,
      "outputs": []
    },
    {
      "cell_type": "markdown",
      "source": [
        "모델의 예측값과 그에 해당하는 정답(label)을 사용하여 오차(error=손실=loss)를 계산한다. 다음 단계는 신경망을 통해 이 에러를 역전파하는 과정이다. 오차(error) tensor에 ```.backward()```를 호출하면 역전파가 시작된다. 그 다음 Autograd가 매개변수(parameter)의 ```.grad```속성(attribute)에, 모델의 각 매개변수에 대한 변화도(gradient)를 계산하고 저장한다."
      ],
      "metadata": {
        "id": "OfjJCciKiBoH"
      }
    },
    {
      "cell_type": "code",
      "source": [
        "loss = (prediction - labels).sum()\n",
        "loss.backward() # 역전파 단계(backward pass)"
      ],
      "metadata": {
        "id": "17XvyVeEiAh2"
      },
      "execution_count": 17,
      "outputs": []
    },
    {
      "cell_type": "markdown",
      "source": [
        "다음으로, 옵티마이저(optimizer)를 불러온다. 이 예제에서는 학습률(learning rate) 0.1과 모멘텀(momentum) 0.9를 갖는 SGD를 사용한다. optimizer에 모델의 모든 매개변수를 등록해보자."
      ],
      "metadata": {
        "id": "K7nqKfBIifMx"
      }
    },
    {
      "cell_type": "code",
      "source": [
        "optim = torch.optim.SGD(model.parameters(), lr=1e-2, momentum=0.9)"
      ],
      "metadata": {
        "id": "uXvAPbY5ieEu"
      },
      "execution_count": 18,
      "outputs": []
    },
    {
      "cell_type": "markdown",
      "source": [
        "마지막으로 ```.step```을 호출해서 경사 하강법(gradient descent)을 시작한다. optimizer는 ```.grad```에 저장된 변화도에 다라 각 매개변수를 조정(adjust)한다."
      ],
      "metadata": {
        "id": "PVze_36Ai2up"
      }
    },
    {
      "cell_type": "code",
      "source": [
        "optim.step() # 경사 하강법(gradient descent)"
      ],
      "metadata": {
        "id": "UpLweVENi2ao"
      },
      "execution_count": 19,
      "outputs": []
    },
    {
      "cell_type": "markdown",
      "source": [
        "## Autograd에서 미분(differentiation)  \n",
        "```autograd```가 어떻게 변화도(gradient)를 수집하는지 살펴보자. ```requires_grad=True```를 갖는 2개의 tensor ```a```와 ```b```를 만들자. ```requires_grad=True```는 ```autograd```에 모든 연산(operation)들을 추적해야 한다고 알려준다."
      ],
      "metadata": {
        "id": "JEdIZD35jF_u"
      }
    },
    {
      "cell_type": "code",
      "source": [
        "import torch\n",
        "a = torch.tensor([2., 3.], requires_grad=True)\n",
        "b = torch.tensor([6., 4.], requires_grad=True)"
      ],
      "metadata": {
        "id": "yW-HbE4jjD6V"
      },
      "execution_count": 20,
      "outputs": []
    },
    {
      "cell_type": "markdown",
      "source": [
        "이제 ```a```와 ```b```로부터 새로운 텐서 ```Q```를 만들자.  "
      ],
      "metadata": {
        "id": "QYy11tgQjjOu"
      }
    },
    {
      "cell_type": "code",
      "source": [
        "Q = 3*a**3 - b**2"
      ],
      "metadata": {
        "id": "l5OIOVndjim0"
      },
      "execution_count": 21,
      "outputs": []
    },
    {
      "cell_type": "markdown",
      "source": [
        "이제 ```a```, ```b```가 모두 신경망(NN)의 매개변수이고, ```Q```가 오차(error)라고 가정해보자. 신경망을 학습할 때, 매개변수들에 대한 오차의 변화도(gradient)를 구해야 한다.  \n",
        "\n",
        "```Q```는 벡터(vector)이므로, ```Q.backward()```에 ```gradient```인자(argument)를 명시적으로 전달해야 한다. ```gradient```는 ```Q```와 같은 모양(shape)의 tensor로, ```Q``` 자기 자신에 대한 변화도(gradient)를 나타낸다.  \n",
        "\n",
        "동일하게, ```Q.sum().backward()```와 같이 ```Q```를 스칼라(scalar) 값으로 집계(aggregate)한 뒤, 암시적으로 ```.backward()```를 호출할 수도 있다."
      ],
      "metadata": {
        "id": "o-lg6epBjzUY"
      }
    },
    {
      "cell_type": "code",
      "source": [
        "external_grad = torch.tensor([1., 1.])\n",
        "Q.backward(gradient=external_grad)"
      ],
      "metadata": {
        "id": "OfNE-GuOjv8k"
      },
      "execution_count": 22,
      "outputs": []
    },
    {
      "cell_type": "markdown",
      "source": [
        "이제 변화도는 ```a.grad```와 ```b.grad```에 저장된다."
      ],
      "metadata": {
        "id": "TLThdCw-kmU7"
      }
    },
    {
      "cell_type": "code",
      "source": [
        "# 수집된 변화도가 올바른지 확인해보자\n",
        "print(9*a**2 == a.grad)\n",
        "print(-2*b == b.grad)"
      ],
      "metadata": {
        "colab": {
          "base_uri": "https://localhost:8080/"
        },
        "id": "BGz3q5goklIc",
        "outputId": "94a3f3fe-e8b6-479f-ab95-e14fc10a4d53"
      },
      "execution_count": 23,
      "outputs": [
        {
          "output_type": "stream",
          "name": "stdout",
          "text": [
            "tensor([True, True])\n",
            "tensor([True, True])\n"
          ]
        }
      ]
    }
  ]
}